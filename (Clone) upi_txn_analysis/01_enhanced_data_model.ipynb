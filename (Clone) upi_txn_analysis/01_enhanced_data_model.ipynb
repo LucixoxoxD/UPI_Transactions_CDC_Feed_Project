{
 "cells": [
  {
   "cell_type": "markdown",
   "metadata": {
    "application/vnd.databricks.v1+cell": {
     "cellMetadata": {
      "byteLimit": 2048000,
      "rowLimit": 10000
     },
     "inputWidgets": {},
     "nuid": "000a43c6-ebd7-435d-8543-232992959fde",
     "showTitle": false,
     "tableResultSettingsMap": {},
     "title": ""
    }
   },
   "source": [
    "# =============================================================================\n",
    "# UPI TRANSACTIONS CDC FEED PROJECT - ENHANCED DATA MODEL\n",
    "# =============================================================================\n",
    "# This notebook creates an enhanced data model for UPI transactions with CDC support\n",
    "# Purpose: Establishes comprehensive schema for real-time UPI transaction processing\n",
    "# Features: CDC-enabled tables, partitioning, auto-optimization, and performance tuning\n",
    "# Output: Creates raw transaction table and merchant aggregation table with CDC support\n"
   ]
  },
  {
   "cell_type": "code",
   "execution_count": 0,
   "metadata": {
    "application/vnd.databricks.v1+cell": {
     "cellMetadata": {
      "byteLimit": 2048000,
      "rowLimit": 10000
     },
     "inputWidgets": {},
     "nuid": "ba62ba0d-a62a-4d4c-844d-d176c67151dc",
     "showTitle": false,
     "tableResultSettingsMap": {},
     "title": ""
    }
   },
   "outputs": [],
   "source": [
    "# =============================================================================\n",
    "# CONFIGURATION SETUP\n",
    "# =============================================================================\n",
    "# Configure Unity Catalog and schema for UPI transactions data model\n",
    "# catalog_name: Unity Catalog name for data governance and management\n",
    "# schema_name: Target schema for organizing UPI transaction tables\n",
    "\n",
    "catalog_name = \"`gds_test_workspace`\"\n",
    "schema_name = \"default\"\n",
    "\n",
    "print(f\"Using catalog: {catalog_name}, schema: {schema_name}\")\n"
   ]
  },
  {
   "cell_type": "code",
   "execution_count": 0,
   "metadata": {
    "application/vnd.databricks.v1+cell": {
     "cellMetadata": {
      "byteLimit": 2048000,
      "rowLimit": 10000
     },
     "inputWidgets": {},
     "nuid": "17d340a0-00c7-4d88-a39c-f49917de899c",
     "showTitle": false,
     "tableResultSettingsMap": {},
     "title": ""
    }
   },
   "outputs": [],
   "source": [
    "# =============================================================================\n",
    "# RAW UPI TRANSACTIONS TABLE WITH CDC SUPPORT\n",
    "# =============================================================================\n",
    "# Create comprehensive raw UPI transactions table with Change Data Capture enabled\n",
    "# Purpose: Store all UPI transaction data with CDC for real-time streaming processing\n",
    "# Features: CDC feed, auto-optimization, partitioning, and comprehensive transaction schema\n",
    "# Schema: Includes transaction details, merchant info, customer data, and location data\n",
    "\n",
    "raw_table_sql = f\"\"\"\n",
    "CREATE TABLE IF NOT EXISTS {catalog_name}.{schema_name}.raw_upi_transactions_v1 (\n",
    "    -- Transaction Core Fields\n",
    "    transaction_id STRING NOT NULL,           -- Unique transaction identifier\n",
    "    upi_id STRING NOT NULL,                   -- UPI ID of the payer\n",
    "    merchant_id STRING NOT NULL,              -- Merchant identifier\n",
    "    merchant_name STRING,                     -- Merchant business name\n",
    "    merchant_category STRING,                 -- Merchant category for partitioning\n",
    "    \n",
    "    -- Transaction Financial Details\n",
    "    transaction_amount DOUBLE NOT NULL,       -- Transaction amount\n",
    "    transaction_currency STRING NOT NULL,     -- Currency (INR for India)\n",
    "    transaction_timestamp TIMESTAMP NOT NULL, -- Transaction timestamp\n",
    "    transaction_status STRING NOT NULL,       -- Status: completed, failed, initiated, refunded\n",
    "    payment_method STRING,                    -- Payment method: UPI, QR Code, etc.\n",
    "    \n",
    "    -- Device and App Information\n",
    "    device_type STRING,                       -- Device type: Mobile, Tablet\n",
    "    device_os STRING,                         -- Operating system: Android, iOS\n",
    "    app_version STRING,                       -- UPI app version\n",
    "    \n",
    "    -- Location Information\n",
    "    latitude DOUBLE,                          -- Transaction location latitude\n",
    "    longitude DOUBLE,                         -- Transaction location longitude\n",
    "    city STRING,                              -- City name\n",
    "    state STRING,                             -- State name\n",
    "    country STRING,                           -- Country name\n",
    "    \n",
    "    -- Customer Demographics\n",
    "    customer_id STRING,                       -- Customer identifier\n",
    "    age_group STRING,                         -- Age group: 18-25, 26-35, etc.\n",
    "    gender STRING,                            -- Gender: Male, Female, Other\n",
    "    \n",
    "    -- Financial Calculations\n",
    "    processing_fee DOUBLE,                    -- Processing fee charged\n",
    "    commission DOUBLE,                        -- Commission earned\n",
    "    \n",
    "    -- Audit Fields\n",
    "    created_at TIMESTAMP,                     -- Record creation timestamp\n",
    "    updated_at TIMESTAMP                      -- Record last update timestamp\n",
    ") \n",
    "USING DELTA\n",
    "TBLPROPERTIES (\n",
    "    'delta.enableChangeDataFeed' = true,      -- Enable CDC for streaming\n",
    "    'delta.autoOptimize.optimizeWrite' = true, -- Auto-optimize writes\n",
    "    'delta.autoOptimize.autoCompact' = true   -- Auto-compact small files\n",
    ")\n",
    "PARTITIONED BY (merchant_category)            -- Partition by merchant category for performance\n",
    "\"\"\"\n",
    "\n",
    "spark.sql(raw_table_sql)\n",
    "print(\"Enhanced raw UPI transactions table created with CDC enabled\")\n"
   ]
  },
  {
   "cell_type": "code",
   "execution_count": 0,
   "metadata": {
    "application/vnd.databricks.v1+cell": {
     "cellMetadata": {
      "byteLimit": 2048000,
      "rowLimit": 10000
     },
     "inputWidgets": {},
     "nuid": "9631604e-d809-413f-b69e-99a01b98aa87",
     "showTitle": false,
     "tableResultSettingsMap": {},
     "title": ""
    }
   },
   "outputs": [],
   "source": [
    "# =============================================================================\n",
    "# MERCHANT AGGREGATION TABLE\n",
    "# =============================================================================\n",
    "# Create merchant aggregation table for real-time merchant performance analytics\n",
    "# Purpose: Store hourly aggregated merchant metrics for business intelligence\n",
    "# Features: Auto-optimization, partitioning, and comprehensive merchant KPIs\n",
    "# Schema: Includes transaction counts, amounts, success rates, and customer metrics\n",
    "\n",
    "merchant_agg_sql = f\"\"\"\n",
    "CREATE TABLE IF NOT EXISTS {catalog_name}.{schema_name}.merchant_aggregations (\n",
    "    -- Merchant Identification\n",
    "    merchant_id STRING NOT NULL,              -- Merchant identifier\n",
    "    merchant_name STRING,                     -- Merchant business name\n",
    "    merchant_category STRING,                 -- Merchant category for partitioning\n",
    "    \n",
    "    -- Time Dimensions\n",
    "    aggregation_date DATE NOT NULL,           -- Date of aggregation\n",
    "    aggregation_hour TIMESTAMP,               -- Hour of aggregation for time-series analysis\n",
    "    \n",
    "    -- Transaction Count Metrics\n",
    "    total_transactions BIGINT,                -- Total number of transactions\n",
    "    successful_transactions BIGINT,           -- Number of successful transactions\n",
    "    failed_transactions BIGINT,               -- Number of failed transactions\n",
    "    refunded_transactions BIGINT,             -- Number of refunded transactions\n",
    "    \n",
    "    -- Transaction Amount Metrics\n",
    "    total_transaction_amount DOUBLE,          -- Total transaction amount\n",
    "    successful_transaction_amount DOUBLE,     -- Amount from successful transactions\n",
    "    failed_transaction_amount DOUBLE,         -- Amount from failed transactions\n",
    "    refunded_transaction_amount DOUBLE,       -- Amount from refunded transactions\n",
    "    net_transaction_amount DOUBLE,            -- Net amount after refunds\n",
    "    \n",
    "    -- Financial Metrics\n",
    "    total_processing_fee DOUBLE,              -- Total processing fees collected\n",
    "    total_commission DOUBLE,                  -- Total commission earned\n",
    "    \n",
    "    -- Performance Metrics\n",
    "    success_rate DOUBLE,                      -- Success rate percentage\n",
    "    unique_customers BIGINT,                  -- Number of unique customers\n",
    "    \n",
    "    -- Time Range Metrics\n",
    "    first_transaction_timestamp TIMESTAMP,    -- First transaction in the period\n",
    "    last_transaction_timestamp TIMESTAMP,     -- Last transaction in the period\n",
    "    \n",
    "    -- Audit Fields\n",
    "    created_at TIMESTAMP,                     -- Record creation timestamp\n",
    "    updated_at TIMESTAMP                      -- Record last update timestamp\n",
    ") \n",
    "USING DELTA\n",
    "TBLPROPERTIES (\n",
    "    'delta.autoOptimize.optimizeWrite' = true, -- Auto-optimize writes\n",
    "    'delta.autoOptimize.autoCompact' = true   -- Auto-compact small files\n",
    ")\n",
    "PARTITIONED BY (merchant_category)            -- Partition by merchant category for performance\n",
    "\"\"\"\n",
    "\n",
    "spark.sql(merchant_agg_sql)\n",
    "print(\"Merchant aggregations table created\")\n"
   ]
  }
 ],
 "metadata": {
  "application/vnd.databricks.v1+notebook": {
   "computePreferences": null,
   "dashboards": [],
   "environmentMetadata": null,
   "inputWidgetPreferences": null,
   "language": "python",
   "notebookMetadata": {
    "pythonIndentUnit": 4
   },
   "notebookName": "01_enhanced_data_model",
   "widgets": {}
  },
  "language_info": {
   "name": "python"
  }
 },
 "nbformat": 4,
 "nbformat_minor": 0
}
